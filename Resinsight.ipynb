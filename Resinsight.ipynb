{
 "cells": [
  {
   "cell_type": "code",
   "execution_count": null,
   "metadata": {},
   "outputs": [],
   "source": [
    "import rips\n",
    "import os\n",
    "import pandas as pd\n",
    "import numpy as np\n",
    "import pandas as pd\n",
    "import matplotlib.pyplot as plt\n",
    "from skopt.sampler import Lhs\n",
    "from smt.sampling_methods import LHS\n",
    "from pyDOE import *\n",
    "import os\n",
    "import math\n",
    "import csv\n",
    "import xlsxwriter\n"
   ]
  },
  {
   "cell_type": "markdown",
   "metadata": {},
   "source": [
    "## Open ResInsight and import required SMSPEC files in ResInsight and then run the following command to connect with the opened project"
   ]
  },
  {
   "cell_type": "code",
   "execution_count": null,
   "metadata": {},
   "outputs": [],
   "source": [
    "resinsight = rips.Instance.find()"
   ]
  },
  {
   "cell_type": "code",
   "execution_count": null,
   "metadata": {},
   "outputs": [],
   "source": [
    "\n",
    "vector_names=[\"WBHP:I1\", \"WBHP:I2\", \"WBHP:I3\", \"WBHP:I4\", \"WBHP:I5\",\\\n",
    "            \"WBHP:I6\", \"WBHP:P1\", \"WBHP:P2\", \"WBHP:P3\",\"WBHP:P4\", \"WBHP:P5\",\\\n",
    "            \"WBHP:P6\", \"WBHP:P7\", \"WBHP:P8\", \"WBHP:P9\", \"WBHP:P10\", \"FOPR\", \"FWPR\", \"FWIR\",\"FOPT\",\"FWPT\", \"FWIT\",\"FWCT\" , \"FPR\"]\n",
    "df=pd.DataFrame()\n",
    "i=1\n",
    "summary_cases=resinsight.project.summary_cases()\n",
    "for summary_case in summary_cases:\n",
    "   \n",
    "    for vector_name in vector_names:\n",
    "        summary_data=summary_case.summary_vector_values(vector_name)\n",
    "        summary_data_sampled=summary_case.resample_values(vector_name,\"YEAR\")\n",
    "        df[vector_name]=summary_data_sampled.values\n",
    "      \n",
    "    df.to_csv('Summary_Case'+str(i+1)+'.csv',header=True)\n",
    "    i+=1\n"
   ]
  },
  {
   "cell_type": "code",
   "execution_count": null,
   "metadata": {},
   "outputs": [],
   "source": [
    "import glob\n",
    "import pandas as pd\n",
    "import os\n",
    "\n",
    "# Define the path containing previosuly created .csv files \n",
    "path=r\"C:\\Users\\Database\\\\\"\n",
    "\n",
    "csv_files=glob.glob(os.path.join(path, \"*.csv\"))\n",
    "df_from_eachfile=[pd.read_csv(f,sep='\\t',header=0,skiprows=[1]) for f in csv_files]\n",
    "df=pd.concat(df_from_eachfile, ignore_index=True,join='inner')\n",
    "#inner is used to comine only the columns that are shared by\n",
    "os.chdir(r\"C:\\Users\\Database\")\n",
    "df.to_csv(\"file_name.csv\") \n",
    "\n"
   ]
  },
  {
   "cell_type": "code",
   "execution_count": null,
   "metadata": {},
   "outputs": [],
   "source": []
  }
 ],
 "metadata": {
  "kernelspec": {
   "display_name": "Python 3",
   "language": "python",
   "name": "python3"
  },
  "language_info": {
   "codemirror_mode": {
    "name": "ipython",
    "version": 3
   },
   "file_extension": ".py",
   "mimetype": "text/x-python",
   "name": "python",
   "nbconvert_exporter": "python",
   "pygments_lexer": "ipython3",
   "version": "3.8.5"
  }
 },
 "nbformat": 4,
 "nbformat_minor": 4
}
